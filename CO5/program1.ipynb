{
 "cells": [
  {
   "cell_type": "code",
   "execution_count": 1,
   "id": "9fbac7dd",
   "metadata": {},
   "outputs": [
    {
     "name": "stdout",
     "output_type": "stream",
     "text": [
      "['This is my first file in python .\\n', '  ant to work with files \\n', ' This is my third line.']\n"
     ]
    }
   ],
   "source": [
    "f1=open(\"secfile.txt\",\"w\")\n",
    "f1.write(\"This is my first file in python .\\n  ant to work with files \\n This is my third line.\")\n",
    "f1=open(\"secfile.txt\",\"r\")\n",
    "ff=f1.readlines()\n",
    "print(ff)"
   ]
  },
  {
   "cell_type": "code",
   "execution_count": null,
   "id": "a84f7901",
   "metadata": {},
   "outputs": [],
   "source": []
  }
 ],
 "metadata": {
  "kernelspec": {
   "display_name": "Python 3 (ipykernel)",
   "language": "python",
   "name": "python3"
  },
  "language_info": {
   "codemirror_mode": {
    "name": "ipython",
    "version": 3
   },
   "file_extension": ".py",
   "mimetype": "text/x-python",
   "name": "python",
   "nbconvert_exporter": "python",
   "pygments_lexer": "ipython3",
   "version": "3.9.13"
  }
 },
 "nbformat": 4,
 "nbformat_minor": 5
}
