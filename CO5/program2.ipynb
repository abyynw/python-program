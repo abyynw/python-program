{
 "cells": [
  {
   "cell_type": "code",
   "execution_count": 3,
   "id": "73653449",
   "metadata": {},
   "outputs": [],
   "source": [
    "f1=open(\"secfile.txt\",\"r\")\n",
    "ff=f1.readlines()\n",
    "with open(\"odd.txt\",\"w\") as f2:\n",
    "    for x in range(0, len(ff)):\n",
    "        if(x%2!=0):\n",
    "            f2.write(ff[x])"
   ]
  },
  {
   "cell_type": "code",
   "execution_count": null,
   "id": "d834bbef",
   "metadata": {},
   "outputs": [],
   "source": []
  }
 ],
 "metadata": {
  "kernelspec": {
   "display_name": "Python 3 (ipykernel)",
   "language": "python",
   "name": "python3"
  },
  "language_info": {
   "codemirror_mode": {
    "name": "ipython",
    "version": 3
   },
   "file_extension": ".py",
   "mimetype": "text/x-python",
   "name": "python",
   "nbconvert_exporter": "python",
   "pygments_lexer": "ipython3",
   "version": "3.9.13"
  }
 },
 "nbformat": 4,
 "nbformat_minor": 5
}
