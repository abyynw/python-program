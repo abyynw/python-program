{
 "cells": [
  {
   "cell_type": "code",
   "execution_count": 1,
   "id": "a292c944",
   "metadata": {},
   "outputs": [
    {
     "name": "stdout",
     "output_type": "stream",
     "text": [
      "Area of Rectangle 1: 50\n",
      "Perimeter of Rectangle 1: 30\n",
      "Area of Rectangle 2: 48\n",
      "Perimeter of Rectangle 2: 28\n",
      "This rectangle is larger.\n"
     ]
    }
   ],
   "source": [
    "class Rectangle:\n",
    "    def __init__(self, length, breadth):\n",
    "        self.length = length\n",
    "        self.breadth = breadth\n",
    "\n",
    "    def area(self):\n",
    "        return self.length * self.breadth\n",
    "\n",
    "    def perimeter(self): \n",
    "        return 2 * (self.length + self.breadth)\n",
    "\n",
    "    def compare_area(self, other):\n",
    "        if not isinstance(other, Rectangle):\n",
    "            raise ValueError(\"Comparison must be with another Rectangle object.\")\n",
    "        \n",
    "        if self.area() > other.area():\n",
    "            return \"This rectangle is larger.\"\n",
    "        elif self.area() < other.area():\n",
    "            return \"The other rectangle is larger.\"\n",
    "        else:\n",
    "            return \"Both rectangles are of equal area.\"\n",
    "\n",
    "if __name__ == \"__main__\":\n",
    "    rect1 = Rectangle(10, 5)\n",
    "    rect2 = Rectangle(8, 6)\n",
    "\n",
    "    print(f\"Area of Rectangle 1: {rect1.area()}\")\n",
    "    print(f\"Perimeter of Rectangle 1: {rect1.perimeter()}\")\n",
    "    \n",
    "    print(f\"Area of Rectangle 2: {rect2.area()}\")\n",
    "    print(f\"Perimeter of Rectangle 2: {rect2.perimeter()}\")\n",
    "\n",
    "    comparison_result = rect1.compare_area(rect2)\n",
    "    print(comparison_result)\n"
   ]
  },
  {
   "cell_type": "code",
   "execution_count": 2,
   "id": "0894f17c",
   "metadata": {},
   "outputs": [
    {
     "name": "stdout",
     "output_type": "stream",
     "text": [
      "Account Number: 40458156789\n",
      "Account Holder: Alexander sajan\n",
      "Account Type: Savings\n",
      "Balance: $100000.00\n",
      "Deposited: $50000.00. New balance: $150000.00\n",
      "Withdrew: $20000.00. New balance: $130000.00\n",
      "Withdrew: $15000.00. New balance: $115000.00\n",
      "Final Balance: $115000.00\n"
     ]
    }
   ],
   "source": [
    "\n",
    "class BankAccount:\n",
    "    def __init__(self, account_number, name, account_type, balance=0.0):\n",
    "        self.account_number = account_number\n",
    "        self.name = name\n",
    "        self.account_type = account_type\n",
    "        self.balance = balance\n",
    "\n",
    "    def deposit(self, amount):\n",
    "        if amount <= 0:\n",
    "            print(\"Deposit amount must be positive.\")\n",
    "            return\n",
    "        self.balance += amount\n",
    "        print(f\"Deposited: ${amount:.2f}. New balance: ${self.balance:.2f}\")\n",
    "\n",
    "    def withdraw(self, amount):\n",
    "        if amount <= 0:\n",
    "            print(\"Withdrawal amount must be positive.\")\n",
    "            return\n",
    "        if amount > self.balance:\n",
    "            print(\"Insufficient funds for this withdrawal.\")\n",
    "            return\n",
    "        self.balance -= amount\n",
    "        print(f\"Withdrew: ${amount:.2f}. New balance: ${self.balance:.2f}\")\n",
    "\n",
    "    def get_balance(self):\n",
    "        return self.balance\n",
    "\n",
    "    def __str__(self):\n",
    "        return (f\"Account Number: {self.account_number}\\n\"\n",
    "                f\"Account Holder: {self.name}\\n\"\n",
    "                f\"Account Type: {self.account_type}\\n\"\n",
    "                f\"Balance: ${self.balance:.2f}\")\n",
    "if __name__ == \"__main__\":\n",
    "    account = BankAccount(\"40458156789\", \"Alexander sajan\", \"Savings\", 100000.0)\n",
    "\n",
    "    print(account)\n",
    "\n",
    "    account.deposit(50000)\n",
    "    account.withdraw(20000) \n",
    "    account.withdraw(15000) \n",
    "\n",
    "    print(f\"Final Balance: ${account.get_balance():.2f}\")\n",
    "\n"
   ]
  },
  {
   "cell_type": "code",
   "execution_count": 3,
   "id": "d33101b2",
   "metadata": {},
   "outputs": [
    {
     "name": "stdout",
     "output_type": "stream",
     "text": [
      "Rectangle 1: Rectangle(length=10, width=5, area=50, perimeter=30)\n",
      "Rectangle 2: Rectangle(length=3, width=4, area=12, perimeter=14)\n",
      "Rectangle 3 (rect1 + rect2): Rectangle(length=13, width=9, area=117, perimeter=44)\n"
     ]
    }
   ],
   "source": [
    "class Rectangle:\n",
    "    def __init__(self, length, width):\n",
    "        self.__length = length\n",
    "        self.__width = width\n",
    "        \n",
    "    def length(self):\n",
    "        return self.__length\n",
    "\n",
    "    def width(self):\n",
    "        return self.__width\n",
    "\n",
    "    def area(self):\n",
    "        return self.__length * self.__width\n",
    "\n",
    "    def perimeter(self):\n",
    "        return 2 * (self.__length + self.__width)\n",
    "\n",
    "    def __add__(self, other):\n",
    "        if not isinstance(other, Rectangle):\n",
    "            raise ValueError(\"Can only add another Rectangle.\")\n",
    "        new_length = self.__length + other.__length\n",
    "        new_width = self.__width + other.__width\n",
    "        return Rectangle(new_length, new_width)\n",
    "\n",
    "    def __str__(self):\n",
    "        return (f\"Rectangle(length={self.__length}, width={self.__width}, \"\n",
    "                f\"area={self.area()}, perimeter={self.perimeter()})\")\n",
    "\n",
    "if __name__ == \"__main__\":\n",
    "    rect1 = Rectangle(10, 5)\n",
    "    rect2 = Rectangle(3, 4)\n",
    "\n",
    "    print(\"Rectangle 1:\", rect1)\n",
    "    print(\"Rectangle 2:\", rect2)\n",
    "\n",
    "    # Adding two rectangles\n",
    "    rect3 = rect1 + rect2\n",
    "    print(\"Rectangle 3 (rect1 + rect2):\", rect3)"
   ]
  },
  {
   "cell_type": "code",
   "execution_count": null,
   "id": "bcd8486e",
   "metadata": {},
   "outputs": [],
   "source": []
  }
 ],
 "metadata": {
  "kernelspec": {
   "display_name": "Python 3 (ipykernel)",
   "language": "python",
   "name": "python3"
  },
  "language_info": {
   "codemirror_mode": {
    "name": "ipython",
    "version": 3
   },
   "file_extension": ".py",
   "mimetype": "text/x-python",
   "name": "python",
   "nbconvert_exporter": "python",
   "pygments_lexer": "ipython3",
   "version": "3.9.13"
  }
 },
 "nbformat": 4,
 "nbformat_minor": 5
}
